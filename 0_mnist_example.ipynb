{
 "cells": [
  {
   "cell_type": "code",
   "execution_count": 1,
   "metadata": {},
   "outputs": [],
   "source": [
    "import os\n",
    "import argparse\n",
    "import requests\n",
    "from dataclasses import dataclass\n",
    "\n",
    "import numpy as np\n",
    "import pandas as pd\n",
    "import matplotlib as mpl\n",
    "import matplotlib.pyplot as plt\n",
    "\n",
    "from sklearn.metrics import (\n",
    "    accuracy_score, \n",
    "    f1_score, \n",
    "    roc_auc_score, \n",
    "    plot_confusion_matrix, \n",
    "    plot_roc_curve, \n",
    ")\n",
    "\n",
    "import torch\n",
    "import torch.nn as nn\n",
    "import torch.optim as optim\n",
    "import torch.nn.functional as F\n",
    "from torch.utils.data import Dataset, DataLoader, Subset\n",
    "\n",
    "import torchvision\n",
    "import torchvision.transforms as T\n",
    "from torchvision.datasets import MNIST, CIFAR10, CIFAR100\n",
    "\n",
    "device = torch.device(\"cuda\" if torch.cuda.is_available() else \"cpu\") "
   ]
  },
  {
   "cell_type": "markdown",
   "metadata": {},
   "source": [
    "## Load MNIST Dataset"
   ]
  },
  {
   "cell_type": "code",
   "execution_count": 2,
   "metadata": {},
   "outputs": [
    {
     "name": "stdout",
     "output_type": "stream",
     "text": [
      "lenght of train set 60000, test set 10000\n"
     ]
    }
   ],
   "source": [
    "transform = T.Compose([T.ToTensor()])\n",
    "train_set = MNIST(root=\"/opt/datasets/mnist\", train=True,  transform=transform, download=True)\n",
    "test_set  = MNIST(root=\"/opt/datasets/mnist\", train=False, transform=transform, download=True)\n",
    "print(f\"lenght of train set {len(train_set)}, test set {len(test_set)}\")"
   ]
  },
  {
   "cell_type": "code",
   "execution_count": 3,
   "metadata": {},
   "outputs": [],
   "source": [
    "batch_size = 64\n",
    "train_dl = DataLoader(train_set, batch_size, shuffle=True)\n",
    "test_dl  = DataLoader(test_set,  batch_size, shuffle=False)"
   ]
  },
  {
   "cell_type": "code",
   "execution_count": 4,
   "metadata": {},
   "outputs": [
    {
     "data": {
      "image/png": "[encoded data removed]",
      "text/plain": [
       "<Figure size 432x288 with 4 Axes>"
      ]
     },
     "metadata": {
      "needs_background": "light"
     },
     "output_type": "display_data"
    }
   ],
   "source": [
    "batch = next(iter(train_dl))\n",
    "X = batch[0]\n",
    "y = batch[1]\n",
    "\n",
    "fig, ax = plt.subplots(1, 4)\n",
    "for i in range(4):\n",
    "    ax[i].imshow(X[i].permute(1, 2, 0))\n",
    "    ax[i].set_title(str(y[i].item()))\n",
    "plt.show()"
   ]
  },
  {
   "cell_type": "code",
   "execution_count": 8,
   "metadata": {},
   "outputs": [],
   "source": [
    "from pool import ActivePool\n",
    "from methods import RandomSampling\n",
    "from models import MNISTCNN"
   ]
  },
  {
   "cell_type": "code",
   "execution_count": 6,
   "metadata": {},
   "outputs": [
    {
     "name": "stdout",
     "output_type": "stream",
     "text": [
      "[Active Pool]\n",
      "Length of unlabeled set 60000 (100.0%).\n",
      "Length of labeled set 0 (0.0%).\n",
      "[RandomSampling]\n"
     ]
    }
   ],
   "source": [
    "pool = ActivePool(train_set, batch_size=1024)\n",
    "sampler = RandomSampling(None, pool, 100)\n",
    "print(pool)\n",
    "print(sampler)"
   ]
  },
  {
   "cell_type": "code",
   "execution_count": 7,
   "metadata": {},
   "outputs": [
    {
     "name": "stdout",
     "output_type": "stream",
     "text": [
      "[Active Pool]\n",
      "Length of unlabeled set 54000 (90.0%).\n",
      "Length of labeled set 6000 (10.0%).\n"
     ]
    }
   ],
   "source": [
    "# initial labeled set\n",
    "result = sampler(size=60000//10)\n",
    "pool.update(result)\n",
    "print(pool)"
   ]
  },
  {
   "cell_type": "code",
   "execution_count": null,
   "metadata": {},
   "outputs": [],
   "source": [
    "criterion = nn.CrossEntropyLoss()\n",
    "optimizer = optim.Adam"
   ]
  },
  {
   "cell_type": "code",
   "execution_count": null,
   "metadata": {},
   "outputs": [],
   "source": [
    "num_trials = 540\n",
    "num_epochs = 50\n",
    "\n",
    "ACC = []\n",
    "\n",
    "for trial in range(num_trials):\n",
    "    train_dl = pool.get_labeled_dataloader()\n",
    "    \n",
    "    model = MNISTCNN([1, 64, 64, 16])\n",
    "    criterion = nn.CrossEntropyLoss()\n",
    "    optimizer = optim.Adam(model.parameters(), lr=1e-3)\n",
    "\n",
    "    for epoch in range(num_epochs):\n",
    "    \n",
    "        all_targets = []\n",
    "        all_preds = []\n",
    "\n",
    "        model.train()\n",
    "        for X, y in train_dl:\n",
    "            optimizer.zero_grad()\n",
    "\n",
    "            X = X.to(device)\n",
    "            y = y.to(device)\n",
    "\n",
    "            out = model(X)\n",
    "            loss = criterion(out, y)\n",
    "            loss.backward()\n",
    "            optimizer.step()\n",
    "\n",
    "            pred = torch.argmax(out, dim=1)\n",
    "            all_preds.extend(pred.tolist())\n",
    "            all_targets.extend(y.detach().cpu().tolist())\n",
    "\n",
    "        print(accuracy_score)\n",
    "\n",
    "        \n"
   ]
  }
 ],
 "metadata": {
  "interpreter": {
   "hash": "c02266775c73f8d7e67d8c67f476e592e850495cb2a286e3089e5ec535290d8b"
  },
  "kernelspec": {
   "display_name": "Python 3.9.7 64-bit ('al': conda)",
   "language": "python",
   "name": "python3"
  },
  "language_info": {
   "codemirror_mode": {
    "name": "ipython",
    "version": 3
   },
   "file_extension": ".py",
   "mimetype": "text/x-python",
   "name": "python",
   "nbconvert_exporter": "python",
   "pygments_lexer": "ipython3",
   "version": "3.9.7"
  },
  "orig_nbformat": 4
 },
 "nbformat": 4,
 "nbformat_minor": 2
}
