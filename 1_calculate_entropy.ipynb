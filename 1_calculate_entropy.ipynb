{
 "cells": [
  {
   "cell_type": "code",
   "execution_count": 1,
   "metadata": {},
   "outputs": [],
   "source": [
    "import numpy as np\n",
    "import matplotlib.pyplot as plt\n",
    "\n",
    "import torch\n",
    "import torch.nn as nn\n",
    "\n",
    "from batchbald_redux.joint_entropy import ExactJointEntropy\n",
    "\n",
    "from entropy import calculate_entropy, calculate_conditional_entropy\n",
    "from utils import get_mixture_prob_dist, nested_to_tensor, CandidateBatch"
   ]
  },
  {
   "cell_type": "markdown",
   "metadata": {},
   "source": [
    "First, generate fake model outputs of shape `(N, K, C)`, where\n",
    "- `N` is the number of unlabeled data, \n",
    "- `K` is the number of inference samples (meaning different weights sampled from the posterior distribution),\n",
    "- and `C` is the number of classes. "
   ]
  },
  {
   "cell_type": "code",
   "execution_count": 2,
   "metadata": {},
   "outputs": [],
   "source": [
    "# number of inference samples\n",
    "K = 20"
   ]
  },
  {
   "cell_type": "code",
   "execution_count": 3,
   "metadata": {},
   "outputs": [
    {
     "data": {
      "text/plain": [
       "torch.Size([4, 20, 4])"
      ]
     },
     "execution_count": 3,
     "metadata": {},
     "output_type": "execute_result"
    }
   ],
   "source": [
    "p1 = [0.7, 0.1, 0.1, 0.1]\n",
    "p2 = [0.4, 0.3, 0.2, 0.1]\n",
    "y1_ws = np.asarray([get_mixture_prob_dist(p1, p2, m) for m in np.linspace(0, 1, K)])\n",
    "# the most certain sample\n",
    "\n",
    "p1 = [0.1, 0.7, 0.1, 0.1]\n",
    "p2 = [0.2, 0.3, 0.3, 0.2]\n",
    "y2_ws = np.asarray([get_mixture_prob_dist(p1, p2, m) for m in np.linspace(0, 1, K)])\n",
    "\n",
    "p1 = [0.1, 0.1, 0.7, 0.1]\n",
    "p2 = [0.25, 0.25, 0.25, 0.25]\n",
    "y3_ws = np.asarray([get_mixture_prob_dist(p1, p2, m) for m in np.linspace(0, 1, K)])\n",
    "\n",
    "p1 = [0.15, 0.1, 0.25, 0.5]\n",
    "p2 = [0.4, 0.3, 0.2, 0.1]\n",
    "y4_ws = np.asarray([get_mixture_prob_dist(p1, p2, m) for m in np.linspace(0, 1, K)])\n",
    "# the most uncertain sample\n",
    "\n",
    "ys_ws = nested_to_tensor([y1_ws, y2_ws, y3_ws, y4_ws])\n",
    "ys_ws.shape"
   ]
  },
  {
   "cell_type": "markdown",
   "metadata": {},
   "source": [
    "We can visualize the fake inputs as shown below. \n",
    "\n",
    "The input #0 is the most certain one, and the input #3 is the least certain one. "
   ]
  },
  {
   "cell_type": "code",
   "execution_count": 4,
   "metadata": {},
   "outputs": [
    {
     "data": {
      "image/png": "[encoded data removed]",
      "text/plain": [
       "<Figure size 432x432 with 5 Axes>"
      ]
     },
     "metadata": {
      "needs_background": "light"
     },
     "output_type": "display_data"
    }
   ],
   "source": [
    "cmap = plt.get_cmap(\"RdBu\")\n",
    "\n",
    "fig, axes = plt.subplots(2, 2, figsize=(6, 6))\n",
    "for idx, ax in enumerate(axes.flat):\n",
    "    im = ax.matshow(ys_ws[idx], aspect=0.2, vmin=0, vmax=1, cmap=cmap)\n",
    "    ax.set_title(f\"sample index: {idx}\")\n",
    "fig.subplots_adjust(right=0.8, hspace=0.5)\n",
    "cbar_ax = fig.add_axes([0.85, 0.15, 0.05, 0.7])\n",
    "fig.colorbar(im, cax=cbar_ax)\n",
    "\n",
    "plt.show()"
   ]
  },
  {
   "cell_type": "markdown",
   "metadata": {},
   "source": [
    "Calculating entropies and conditional entropies of a batch sample is implemented in `entropy.py`. \n",
    "\n",
    "We can calculate the joint entropy by\n",
    "\n",
    "$$\n",
    "\\begin{aligned}\n",
    "H[y_{1:b}] &= E_y[-\\log p(y_{1:b})] = E_w \\left[E_{y|w}[-\\log p(y_{1:b} | w)] \\right] \\\\\n",
    "&= E_w \\left[ E_{y|w} [-\\log E_w [p(y_{1:b} | w)] ] \\right] \\\\\n",
    "&\\approx -\\sum_{\\hat y_{1:b}} \\left\\{ \\left( {1 \\over k} \\sum_{j=1}^{k} p(\\hat y_{1:b} | \\hat w_j) \\right) \\cdot \n",
    "\\log \\left( {1 \\over k} \\sum_{j=1}^{k} p(\\hat y_{1:b} | \\hat w_j) \\right) \\right\\}\n",
    "\\end{aligned}\n",
    "$$\n",
    "\n",
    "And we can also calculate the conditional entropy by \n",
    "\n",
    "$$\n",
    "\\begin{aligned}\n",
    "H[y_{1:b}|w] &= E_w H[y_{1:b}|w] = \\sum_w p(w) H[y_{1:b} | w] \\\\\n",
    "&\\approx - {1 \\over k} \\sum_{j=1}^{k} \\sum_{y_{1:b}} \\left\\{ p(\\hat y_{1:b}|\\hat w_j) \\cdot \\log p(\\hat y_{\\hat 1:b}|\\hat w_j) \\right\\}\n",
    "\\end{aligned}\n",
    "$$"
   ]
  },
  {
   "cell_type": "code",
   "execution_count": 5,
   "metadata": {},
   "outputs": [
    {
     "data": {
      "text/plain": [
       "tensor([1.1655, 1.2376, 1.2687, 1.3737], dtype=torch.float64)"
      ]
     },
     "execution_count": 5,
     "metadata": {},
     "output_type": "execute_result"
    }
   ],
   "source": [
    "calculate_entropy(ys_ws.log().double())"
   ]
  },
  {
   "cell_type": "code",
   "execution_count": 6,
   "metadata": {},
   "outputs": [
    {
     "data": {
      "text/plain": [
       "tensor([1.1453, 1.2069, 1.2304, 1.3270], dtype=torch.float64)"
      ]
     },
     "execution_count": 6,
     "metadata": {},
     "output_type": "execute_result"
    }
   ],
   "source": [
    "calculate_conditional_entropy(ys_ws.log().double())"
   ]
  },
  {
   "cell_type": "code",
   "execution_count": 7,
   "metadata": {},
   "outputs": [
    {
     "data": {
      "text/plain": [
       "tensor([0.0202, 0.0307, 0.0383, 0.0467], dtype=torch.float64)"
      ]
     },
     "execution_count": 7,
     "metadata": {},
     "output_type": "execute_result"
    }
   ],
   "source": [
    "calculate_entropy(ys_ws.log().double()) - calculate_conditional_entropy(ys_ws.log().double())"
   ]
  },
  {
   "cell_type": "markdown",
   "metadata": {},
   "source": [
    "We can naively implement `get_batchbald` and `get_bald`."
   ]
  },
  {
   "cell_type": "code",
   "execution_count": 10,
   "metadata": {},
   "outputs": [],
   "source": [
    "def get_batchbald(\n",
    "    log_probs: torch.Tensor, batch_size: int = 128, max_N: int = 1024\n",
    ") -> CandidateBatch:\n",
    "    if log_probs.ndim != 3:\n",
    "        raise ValueError()\n",
    "\n",
    "    N, K, C = log_probs.shape\n",
    "\n",
    "    candidate = CandidateBatch([], [])\n",
    "    not_in_candidate = list(range(N))\n",
    "\n",
    "    for b in range(batch_size):\n",
    "\n",
    "        scores = torch.zeros((N,), dtype=torch.double, device=log_probs.device)\n",
    "        if b > 0:\n",
    "            _indices = torch.tensor(\n",
    "                candidate.indices, device=log_probs.device, dtype=torch.long\n",
    "            )\n",
    "            scores.index_fill_(0, _indices, -1e9)\n",
    "            # the lowest score possible\n",
    "\n",
    "        for idx in not_in_candidate:\n",
    "            _indices = candidate.indices + [idx]\n",
    "            # print(_indices)\n",
    "            _log_probs = log_probs[_indices, :, :]\n",
    "            # print(_log_probs)\n",
    "\n",
    "            scores[idx] += calculate_entropy(_log_probs, max_N).sum()\n",
    "            scores[idx] -= calculate_conditional_entropy(_log_probs, max_N).mean()\n",
    "\n",
    "        max_score, max_index = scores.max(dim=0)\n",
    "\n",
    "        candidate.scores.append(max_score.item())\n",
    "        candidate.indices.append(max_index.item())\n",
    "\n",
    "        not_in_candidate.remove(max_index)\n",
    "\n",
    "    return candidate"
   ]
  },
  {
   "cell_type": "code",
   "execution_count": 11,
   "metadata": {},
   "outputs": [
    {
     "data": {
      "text/plain": [
       "CandidateBatch(scores=[0.04669819630358063, 1.3636951542992395], indices=[3, 2])"
      ]
     },
     "execution_count": 11,
     "metadata": {},
     "output_type": "execute_result"
    }
   ],
   "source": [
    "get_batchbald(ys_ws.log().double(), 2, 2)"
   ]
  },
  {
   "cell_type": "code",
   "execution_count": 12,
   "metadata": {},
   "outputs": [],
   "source": [
    "def get_bald(\n",
    "    log_probs: torch.Tensor, batch_size: int, max_N: int = 1024\n",
    ") -> CandidateBatch:\n",
    "    N, K, C = log_probs.shape\n",
    "\n",
    "    batch_size = min(batch_size, N)\n",
    "\n",
    "    candidate_indices = []\n",
    "    candidate_scores = []\n",
    "\n",
    "    scores_N = -calculate_conditional_entropy(log_probs, max_N)\n",
    "    scores_N += calculate_entropy(log_probs, max_N)\n",
    "\n",
    "    candidate_scores, candidate_indices = torch.topk(scores_N, batch_size)\n",
    "\n",
    "    return CandidateBatch(candidate_scores.tolist(), candidate_indices.tolist())"
   ]
  },
  {
   "cell_type": "code",
   "execution_count": 13,
   "metadata": {},
   "outputs": [
    {
     "data": {
      "text/plain": [
       "CandidateBatch(scores=[0.04669819630358063, 0.038301580617693176], indices=[3, 2])"
      ]
     },
     "execution_count": 13,
     "metadata": {},
     "output_type": "execute_result"
    }
   ],
   "source": [
    "get_bald(ys_ws.log().double(), 2, 2)"
   ]
  },
  {
   "cell_type": "code",
   "execution_count": 14,
   "metadata": {},
   "outputs": [],
   "source": [
    "joint_entropy = ExactJointEntropy.empty(K, dtype=torch.double)\n",
    "entropy = joint_entropy.add_variables(ys_ws[:4].log()).compute()"
   ]
  },
  {
   "cell_type": "code",
   "execution_count": 15,
   "metadata": {},
   "outputs": [
    {
     "data": {
      "text/plain": [
       "tensor(5.0337, dtype=torch.float64)"
      ]
     },
     "execution_count": 15,
     "metadata": {},
     "output_type": "execute_result"
    }
   ],
   "source": [
    "entropy"
   ]
  },
  {
   "cell_type": "code",
   "execution_count": 17,
   "metadata": {},
   "outputs": [
    {
     "data": {
      "text/plain": [
       "tensor(5.0455, dtype=torch.float64)"
      ]
     },
     "execution_count": 17,
     "metadata": {},
     "output_type": "execute_result"
    }
   ],
   "source": [
    "calculate_entropy(ys_ws.log().double()).sum()"
   ]
  },
  {
   "cell_type": "code",
   "execution_count": null,
   "metadata": {},
   "outputs": [],
   "source": []
  }
 ],
 "metadata": {
  "interpreter": {
   "hash": "8eb540d1016a06de34ee28a1afabe5d8c496f06c5c9b7636d2c25e32c04f9b7e"
  },
  "kernelspec": {
   "display_name": "Python 3.9.6 64-bit ('3.9.6': pyenv)",
   "language": "python",
   "name": "python3"
  },
  "language_info": {
   "codemirror_mode": {
    "name": "ipython",
    "version": 3
   },
   "file_extension": ".py",
   "mimetype": "text/x-python",
   "name": "python",
   "nbconvert_exporter": "python",
   "pygments_lexer": "ipython3",
   "version": "3.9.7"
  },
  "orig_nbformat": 4
 },
 "nbformat": 4,
 "nbformat_minor": 2
}
